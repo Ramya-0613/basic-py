{
 "cells": [
  {
   "cell_type": "code",
   "execution_count": 4,
   "id": "5b919e57",
   "metadata": {},
   "outputs": [
    {
     "name": "stdout",
     "output_type": "stream",
     "text": [
      "[17, 0, 0]\n",
      "[10, 0, 0]\n",
      "[11, 0, 0]\n"
     ]
    }
   ],
   "source": [
    "n=[[12,7,3],\n",
    "   [4,5,6],\n",
    "   [7,8,9]]\n",
    "n1=[[5,8,1],\n",
    "   [6,7,3],\n",
    "   [4,5,9]]\n",
    "result=[[0,0,0],\n",
    "       [0,0,0],\n",
    "       [0,0,0]]\n",
    "for i in range(len(n)):\n",
    "    for j in range(len([0])):\n",
    "        result[i][j]=n[i][j]+n1[i][j]\n",
    "for r in result:\n",
    "    print(r)"
   ]
  },
  {
   "cell_type": "code",
   "execution_count": 1,
   "id": "e47d8d0f",
   "metadata": {},
   "outputs": [
    {
     "name": "stdout",
     "output_type": "stream",
     "text": [
      "[114 160  60]\n",
      "[74 97 73]\n",
      "[119 157 112]\n"
     ]
    }
   ],
   "source": [
    "import numpy as np\n",
    "n=[[12,7,3],\n",
    "   [4,5,6],\n",
    "   [7,8,9]]\n",
    "n1=[[5,8,1],\n",
    "   [6,7,3],\n",
    "   [4,5,9]]\n",
    "result=[[0,0,0],\n",
    "       [0,0,0],\n",
    "       [0,0,0]]\n",
    "result=np.dot(n,n1)\n",
    "for r in result:\n",
    "    print(r)"
   ]
  },
  {
   "cell_type": "code",
   "execution_count": 3,
   "id": "6554981c",
   "metadata": {},
   "outputs": [
    {
     "name": "stdout",
     "output_type": "stream",
     "text": [
      "[[1, 2, 3], [4, 5, 6]]\n",
      "\n",
      "\n",
      "[[1 4]\n",
      " [2 5]\n",
      " [3 6]]\n"
     ]
    }
   ],
   "source": [
    "import numpy\n",
    "matrix=[[1,2,3],[4,5,6]]\n",
    "print(matrix)\n",
    "print(\"\\n\")\n",
    "print(numpy.transpose(matrix))"
   ]
  },
  {
   "cell_type": "code",
   "execution_count": 3,
   "id": "7dd647b1",
   "metadata": {
    "scrolled": true
   },
   "outputs": [
    {
     "name": "stdout",
     "output_type": "stream",
     "text": [
      "a b c g h j y u f \n",
      "The sorted words are:\n",
      "a\n",
      "b\n",
      "c\n",
      "f\n",
      "g\n",
      "h\n",
      "j\n",
      "u\n",
      "y\n"
     ]
    }
   ],
   "source": [
    "str=input()\n",
    "word=[word.lower() for word in str.split()]\n",
    "word.sort()\n",
    "print(\"The sorted words are:\")\n",
    "for word in word:\n",
    "    print(word)"
   ]
  },
  {
   "cell_type": "code",
   "execution_count": 5,
   "id": "4ecfdc5d",
   "metadata": {},
   "outputs": [
    {
     "name": "stdout",
     "output_type": "stream",
     "text": [
      "hello\n"
     ]
    }
   ],
   "source": [
    "my_string='hello'\n",
    "print(my_string)"
   ]
  },
  {
   "cell_type": "code",
   "execution_count": null,
   "id": "7af89b93",
   "metadata": {},
   "outputs": [],
   "source": []
  }
 ],
 "metadata": {
  "kernelspec": {
   "display_name": "Python 3 (ipykernel)",
   "language": "python",
   "name": "python3"
  },
  "language_info": {
   "codemirror_mode": {
    "name": "ipython",
    "version": 3
   },
   "file_extension": ".py",
   "mimetype": "text/x-python",
   "name": "python",
   "nbconvert_exporter": "python",
   "pygments_lexer": "ipython3",
   "version": "3.9.7"
  }
 },
 "nbformat": 4,
 "nbformat_minor": 5
}
